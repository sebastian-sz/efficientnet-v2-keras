{
  "nbformat": 4,
  "nbformat_minor": 0,
  "metadata": {
    "colab": {
      "name": "keras-efficientnet-v2-quickstart.ipynb",
      "provenance": [],
      "collapsed_sections": []
    },
    "kernelspec": {
      "name": "python3",
      "display_name": "Python 3"
    },
    "accelerator": "GPU"
  },
  "cells": [
    {
      "cell_type": "markdown",
      "metadata": {
        "id": "3VM9vlheNYFI"
      },
      "source": [
        "Welcome to quickstart notebook of EfficientNetV2 Keras package.\n",
        "\n",
        "We will go over some basic concepts, like \n",
        "1. Installation.\n",
        "2. Download data + fine tune.\n",
        "3. Convert to TFLite.\n",
        "4. Convert to ONNX."
      ]
    },
    {
      "cell_type": "markdown",
      "metadata": {
        "id": "WuKTZ85PNpt2"
      },
      "source": [
        "Execute the cell below to check if we are using a GPU:"
      ]
    },
    {
      "cell_type": "code",
      "metadata": {
        "colab": {
          "base_uri": "https://localhost:8080/"
        },
        "id": "VKmWjZ-WNuEy",
        "outputId": "0e7ab8ce-7661-4671-fb8f-8f00052ff1d6"
      },
      "source": [
        "!nvidia-smi"
      ],
      "execution_count": 1,
      "outputs": [
        {
          "output_type": "stream",
          "text": [
            "Thu Aug  5 15:25:47 2021       \n",
            "+-----------------------------------------------------------------------------+\n",
            "| NVIDIA-SMI 470.42.01    Driver Version: 460.32.03    CUDA Version: 11.2     |\n",
            "|-------------------------------+----------------------+----------------------+\n",
            "| GPU  Name        Persistence-M| Bus-Id        Disp.A | Volatile Uncorr. ECC |\n",
            "| Fan  Temp  Perf  Pwr:Usage/Cap|         Memory-Usage | GPU-Util  Compute M. |\n",
            "|                               |                      |               MIG M. |\n",
            "|===============================+======================+======================|\n",
            "|   0  Tesla T4            Off  | 00000000:00:04.0 Off |                    0 |\n",
            "| N/A   37C    P8    10W /  70W |      0MiB / 15109MiB |      0%      Default |\n",
            "|                               |                      |                  N/A |\n",
            "+-------------------------------+----------------------+----------------------+\n",
            "                                                                               \n",
            "+-----------------------------------------------------------------------------+\n",
            "| Processes:                                                                  |\n",
            "|  GPU   GI   CI        PID   Type   Process name                  GPU Memory |\n",
            "|        ID   ID                                                   Usage      |\n",
            "|=============================================================================|\n",
            "|  No running processes found                                                 |\n",
            "+-----------------------------------------------------------------------------+\n"
          ],
          "name": "stdout"
        }
      ]
    },
    {
      "cell_type": "markdown",
      "metadata": {
        "id": "n9rBVh9Y3mIx"
      },
      "source": [
        "### Installation\n",
        "\n",
        "Run below cell to install the module:"
      ]
    },
    {
      "cell_type": "code",
      "metadata": {
        "id": "bbjnQVXDa9xC",
        "colab": {
          "base_uri": "https://localhost:8080/"
        },
        "outputId": "9537061b-4c4e-44f0-cddf-4b8751d26a85"
      },
      "source": [
        "!pip install -q git+https://github.com/sebastian-sz/efficientnet-v2-keras@main"
      ],
      "execution_count": 2,
      "outputs": [
        {
          "output_type": "stream",
          "text": [
            "  Building wheel for efficientnet-v2-keras (setup.py) ... \u001b[?25l\u001b[?25hdone\n"
          ],
          "name": "stdout"
        }
      ]
    },
    {
      "cell_type": "code",
      "metadata": {
        "id": "BzOrfPlmfXLB",
        "colab": {
          "base_uri": "https://localhost:8080/"
        },
        "outputId": "d41058dc-d3bc-454a-c49e-bae75bbac759"
      },
      "source": [
        "import os\n",
        "\n",
        "import tensorflow as tf\n",
        "from efficientnet_v2 import EfficientNetV2S\n",
        "\n",
        "\n",
        "print(tf.__version__)"
      ],
      "execution_count": 3,
      "outputs": [
        {
          "output_type": "stream",
          "text": [
            "2.5.0\n"
          ],
          "name": "stdout"
        }
      ]
    },
    {
      "cell_type": "markdown",
      "metadata": {
        "id": "akdGp68W3kkB"
      },
      "source": [
        "### Download example dataset\n",
        "\n",
        "In this section we are going to download example dataset."
      ]
    },
    {
      "cell_type": "code",
      "metadata": {
        "id": "ifLKYJWw6caH",
        "colab": {
          "base_uri": "https://localhost:8080/"
        },
        "outputId": "c16ce70b-f283-4887-eaa6-293da97cb9ab"
      },
      "source": [
        "!curl https://storage.googleapis.com/download.tensorflow.org/example_images/flower_photos.tgz | tar xz"
      ],
      "execution_count": 4,
      "outputs": [
        {
          "output_type": "stream",
          "text": [
            "  % Total    % Received % Xferd  Average Speed   Time    Time     Time  Current\n",
            "                                 Dload  Upload   Total   Spent    Left  Speed\n",
            "100  218M  100  218M    0     0  83.7M      0  0:00:02  0:00:02 --:--:-- 83.7M\n"
          ],
          "name": "stdout"
        }
      ]
    },
    {
      "cell_type": "markdown",
      "metadata": {
        "id": "HVQ0hBfG7OcN"
      },
      "source": [
        "Remove the License file so it doesn't mess up directory structure:"
      ]
    },
    {
      "cell_type": "code",
      "metadata": {
        "id": "ULjj5wLY68Ud"
      },
      "source": [
        "!rm flower_photos/LICENSE.txt"
      ],
      "execution_count": 5,
      "outputs": []
    },
    {
      "cell_type": "markdown",
      "metadata": {
        "id": "jnraEsH97Zpz"
      },
      "source": [
        "Preview Class names:"
      ]
    },
    {
      "cell_type": "code",
      "metadata": {
        "id": "MpSgfUa47ZAf",
        "colab": {
          "base_uri": "https://localhost:8080/"
        },
        "outputId": "48b15854-6f46-4c16-f863-2a2837ad5ad1"
      },
      "source": [
        "!ls flower_photos"
      ],
      "execution_count": 6,
      "outputs": [
        {
          "output_type": "stream",
          "text": [
            "daisy  dandelion  roses  sunflowers  tulips\n"
          ],
          "name": "stdout"
        }
      ]
    },
    {
      "cell_type": "markdown",
      "metadata": {
        "id": "aWPITuh-7fwm"
      },
      "source": [
        "### Load the data:"
      ]
    },
    {
      "cell_type": "code",
      "metadata": {
        "id": "p2VDNQOa7itl"
      },
      "source": [
        "DATA_PATH = \"./flower_photos\"\n",
        "BATCH_SIZE = 32\n",
        "TARGET_SIZE = (384, 384)  # S variant expects images in shape (384, 384)\n",
        "\n",
        "\n",
        "def preprocess_data(images, labels):\n",
        "    images = (images - 128.00) / 128.00\n",
        "    return images, labels\n",
        "\n",
        "\n",
        "def augment_data(images, labels):\n",
        "    return tf.image.random_flip_left_right(images), labels"
      ],
      "execution_count": 7,
      "outputs": []
    },
    {
      "cell_type": "code",
      "metadata": {
        "id": "an2pwW5O7ykd",
        "colab": {
          "base_uri": "https://localhost:8080/"
        },
        "outputId": "506c510c-191d-40af-d653-88bbb3afdbc3"
      },
      "source": [
        "# Create tf.data.dataset objects:\n",
        "\n",
        "train_dataset = tf.keras.preprocessing.image_dataset_from_directory(\n",
        "    directory=DATA_PATH,\n",
        "    batch_size=BATCH_SIZE,\n",
        "    image_size=TARGET_SIZE,\n",
        "    label_mode=\"categorical\",\n",
        "    seed=1234,\n",
        "    validation_split=0.2,\n",
        "    subset=\"training\"\n",
        ")\n",
        "\n",
        "val_dataset = tf.keras.preprocessing.image_dataset_from_directory(\n",
        "    directory=DATA_PATH,\n",
        "    batch_size=BATCH_SIZE,\n",
        "    image_size=TARGET_SIZE,\n",
        "    label_mode=\"categorical\",\n",
        "    seed=1234,\n",
        "    validation_split=0.2,\n",
        "    subset=\"validation\"\n",
        ")"
      ],
      "execution_count": 8,
      "outputs": [
        {
          "output_type": "stream",
          "text": [
            "Found 3670 files belonging to 5 classes.\n",
            "Using 2936 files for training.\n",
            "Found 3670 files belonging to 5 classes.\n",
            "Using 734 files for validation.\n"
          ],
          "name": "stdout"
        }
      ]
    },
    {
      "cell_type": "code",
      "metadata": {
        "id": "MdYLVRCgOO-Q"
      },
      "source": [
        "# Apply preprocessing and augmentation:\n",
        "\n",
        "AUTOTUNE = tf.data.AUTOTUNE\n",
        "\n",
        "train_dataset = train_dataset.map(preprocess_data, num_parallel_calls=AUTOTUNE).map(augment_data, num_parallel_calls=AUTOTUNE).prefetch(AUTOTUNE)\n",
        "val_dataset = val_dataset.map(preprocess_data, num_parallel_calls=AUTOTUNE).prefetch(AUTOTUNE)"
      ],
      "execution_count": 9,
      "outputs": []
    },
    {
      "cell_type": "code",
      "metadata": {
        "id": "zqUlm1-_8awz",
        "colab": {
          "base_uri": "https://localhost:8080/"
        },
        "outputId": "c9418b6e-15be-4ce9-aec8-7fa3398d9c66"
      },
      "source": [
        "# Sanity check our dataset shapes:\n",
        "\n",
        "for image_batch, label_batch in train_dataset.take(1):\n",
        "    print(image_batch.shape)\n",
        "    print(label_batch.shape)"
      ],
      "execution_count": 10,
      "outputs": [
        {
          "output_type": "stream",
          "text": [
            "(32, 384, 384, 3)\n",
            "(32, 5)\n"
          ],
          "name": "stdout"
        }
      ]
    },
    {
      "cell_type": "markdown",
      "metadata": {
        "id": "H7F_Ns_X-4tt"
      },
      "source": [
        "### Train (extract features)\n",
        "\n",
        "Let us fine tune EfficientV2 S variant."
      ]
    },
    {
      "cell_type": "code",
      "metadata": {
        "id": "S1ILFlN2_ATx"
      },
      "source": [
        "def build_model(num_classes=5):\n",
        "    base_model = EfficientNetV2S(\n",
        "        input_shape=(TARGET_SIZE[0], TARGET_SIZE[1], 3),\n",
        "        include_top=False,\n",
        "        pooling=\"avg\",\n",
        "        weights=\"imagenet++\"  # Let's use pretrained on imagenet 21k and fine tuned on 1k weight variant.\n",
        "    )\n",
        "\n",
        "    base_model.trainable=False\n",
        "\n",
        "    return tf.keras.Sequential([\n",
        "        base_model,\n",
        "        tf.keras.layers.Dropout(0.2),\n",
        "        tf.keras.layers.Dense(num_classes, activation=None)\n",
        "    ])"
      ],
      "execution_count": 11,
      "outputs": []
    },
    {
      "cell_type": "code",
      "metadata": {
        "id": "tUjspUDr_qLj",
        "colab": {
          "base_uri": "https://localhost:8080/"
        },
        "outputId": "e781c245-e2a1-4994-d9c6-e7aca28c2b18"
      },
      "source": [
        "model = build_model()\n",
        "model.compile(\n",
        "    optimizer=tf.keras.optimizers.Adam(),\n",
        "    loss=tf.keras.losses.CategoricalCrossentropy(from_logits=True),\n",
        "    metrics=['accuracy']\n",
        ")\n",
        "\n",
        "model.summary()"
      ],
      "execution_count": 12,
      "outputs": [
        {
          "output_type": "stream",
          "text": [
            "Downloading data from https://github.com/sebastian-sz/efficientnet-v2-keras/releases/download/v1.0/efficientnetv2-s-21k-ft1k_notop.h5\n",
            "82468864/82461544 [==============================] - 2s 0us/step\n",
            "Model: \"sequential\"\n",
            "_________________________________________________________________\n",
            "Layer (type)                 Output Shape              Param #   \n",
            "=================================================================\n",
            "efficientnetv2-s (Functional (None, 1280)              20331360  \n",
            "_________________________________________________________________\n",
            "dropout (Dropout)            (None, 1280)              0         \n",
            "_________________________________________________________________\n",
            "dense (Dense)                (None, 5)                 6405      \n",
            "=================================================================\n",
            "Total params: 20,337,765\n",
            "Trainable params: 6,405\n",
            "Non-trainable params: 20,331,360\n",
            "_________________________________________________________________\n"
          ],
          "name": "stdout"
        }
      ]
    },
    {
      "cell_type": "code",
      "metadata": {
        "id": "H_eqpJNaAFT1",
        "colab": {
          "base_uri": "https://localhost:8080/"
        },
        "outputId": "ccf4dd51-0c8b-48ae-caa1-1d7b39ddb3f1"
      },
      "source": [
        "model.fit(\n",
        "    train_dataset,\n",
        "    epochs=5,\n",
        "    validation_data=val_dataset,\n",
        ")"
      ],
      "execution_count": 13,
      "outputs": [
        {
          "output_type": "stream",
          "text": [
            "Epoch 1/5\n",
            "92/92 [==============================] - 85s 480ms/step - loss: 0.5869 - accuracy: 0.8018 - val_loss: 0.1982 - val_accuracy: 0.9441\n",
            "Epoch 2/5\n",
            "92/92 [==============================] - 40s 423ms/step - loss: 0.1833 - accuracy: 0.9421 - val_loss: 0.1480 - val_accuracy: 0.9564\n",
            "Epoch 3/5\n",
            "92/92 [==============================] - 40s 432ms/step - loss: 0.1327 - accuracy: 0.9581 - val_loss: 0.1317 - val_accuracy: 0.9564\n",
            "Epoch 4/5\n",
            "92/92 [==============================] - 40s 433ms/step - loss: 0.1081 - accuracy: 0.9670 - val_loss: 0.1282 - val_accuracy: 0.9564\n",
            "Epoch 5/5\n",
            "92/92 [==============================] - 41s 440ms/step - loss: 0.0851 - accuracy: 0.9758 - val_loss: 0.1160 - val_accuracy: 0.9619\n"
          ],
          "name": "stdout"
        },
        {
          "output_type": "execute_result",
          "data": {
            "text/plain": [
              "<tensorflow.python.keras.callbacks.History at 0x7fedee200c90>"
            ]
          },
          "metadata": {
            "tags": []
          },
          "execution_count": 13
        }
      ]
    },
    {
      "cell_type": "markdown",
      "metadata": {
        "id": "7-TNIZDXPTRb"
      },
      "source": [
        "### Convert TFLite\n",
        "\n",
        "We can convert the modified model to Tensorflow Lite:"
      ]
    },
    {
      "cell_type": "code",
      "metadata": {
        "colab": {
          "base_uri": "https://localhost:8080/"
        },
        "id": "vTCv4vS9PSEY",
        "outputId": "a37e32b2-8809-4c3a-fbf7-31cd4d883160"
      },
      "source": [
        "# Convert\n",
        "converter = tf.lite.TFLiteConverter.from_keras_model(model)\n",
        "tflite_model = converter.convert()\n",
        "\n",
        "# Save\n",
        "with open(\"efficientnet_lite.tflite\", \"wb\") as file:\n",
        "  file.write(tflite_model)"
      ],
      "execution_count": 14,
      "outputs": [
        {
          "output_type": "stream",
          "text": [
            "WARNING:absl:Function `_wrapped_model` contains input name(s) efficientnetv2-s_input with unsupported characters which will be renamed to efficientnetv2_s_input in the SavedModel.\n",
            "/usr/local/lib/python3.7/dist-packages/tensorflow/python/keras/utils/generic_utils.py:497: CustomMaskWarning: Custom mask layers require a config and must override get_config. When loading, the custom mask layer must be passed to the custom_objects argument.\n",
            "  category=CustomMaskWarning)\n"
          ],
          "name": "stderr"
        },
        {
          "output_type": "stream",
          "text": [
            "INFO:tensorflow:Assets written to: /tmp/tmphf93ejg9/assets\n"
          ],
          "name": "stdout"
        },
        {
          "output_type": "stream",
          "text": [
            "INFO:tensorflow:Assets written to: /tmp/tmphf93ejg9/assets\n"
          ],
          "name": "stderr"
        }
      ]
    },
    {
      "cell_type": "code",
      "metadata": {
        "colab": {
          "base_uri": "https://localhost:8080/"
        },
        "id": "glOCTAyiQLbH",
        "outputId": "f202549f-3430-4dcb-c039-a78312d79ed3"
      },
      "source": [
        "!ls *.tflite"
      ],
      "execution_count": 15,
      "outputs": [
        {
          "output_type": "stream",
          "text": [
            "efficientnet_lite.tflite\n"
          ],
          "name": "stdout"
        }
      ]
    },
    {
      "cell_type": "markdown",
      "metadata": {
        "id": "6avcBcmwP7-H"
      },
      "source": [
        "### Convert onnx\n",
        "\n",
        "We can also convert this model to ONNX via `tf2onnx` package:"
      ]
    },
    {
      "cell_type": "code",
      "metadata": {
        "colab": {
          "base_uri": "https://localhost:8080/"
        },
        "id": "9xEKhV0_P6Zi",
        "outputId": "cc70c309-8bc3-4436-a475-6337262f87f3"
      },
      "source": [
        "!pip install tf2onnx~=1.8.4"
      ],
      "execution_count": 16,
      "outputs": [
        {
          "output_type": "stream",
          "text": [
            "Collecting tf2onnx~=1.8.4\n",
            "  Downloading tf2onnx-1.8.5-py3-none-any.whl (370 kB)\n",
            "\u001b[?25l\r\u001b[K     |▉                               | 10 kB 34.6 MB/s eta 0:00:01\r\u001b[K     |█▊                              | 20 kB 37.5 MB/s eta 0:00:01\r\u001b[K     |██▋                             | 30 kB 21.6 MB/s eta 0:00:01\r\u001b[K     |███▌                            | 40 kB 17.7 MB/s eta 0:00:01\r\u001b[K     |████▍                           | 51 kB 7.7 MB/s eta 0:00:01\r\u001b[K     |█████▎                          | 61 kB 8.0 MB/s eta 0:00:01\r\u001b[K     |██████▏                         | 71 kB 7.3 MB/s eta 0:00:01\r\u001b[K     |███████                         | 81 kB 8.2 MB/s eta 0:00:01\r\u001b[K     |████████                        | 92 kB 8.3 MB/s eta 0:00:01\r\u001b[K     |████████▉                       | 102 kB 7.4 MB/s eta 0:00:01\r\u001b[K     |█████████▊                      | 112 kB 7.4 MB/s eta 0:00:01\r\u001b[K     |██████████▋                     | 122 kB 7.4 MB/s eta 0:00:01\r\u001b[K     |███████████▌                    | 133 kB 7.4 MB/s eta 0:00:01\r\u001b[K     |████████████▍                   | 143 kB 7.4 MB/s eta 0:00:01\r\u001b[K     |█████████████▎                  | 153 kB 7.4 MB/s eta 0:00:01\r\u001b[K     |██████████████▏                 | 163 kB 7.4 MB/s eta 0:00:01\r\u001b[K     |███████████████                 | 174 kB 7.4 MB/s eta 0:00:01\r\u001b[K     |████████████████                | 184 kB 7.4 MB/s eta 0:00:01\r\u001b[K     |████████████████▉               | 194 kB 7.4 MB/s eta 0:00:01\r\u001b[K     |█████████████████▊              | 204 kB 7.4 MB/s eta 0:00:01\r\u001b[K     |██████████████████▋             | 215 kB 7.4 MB/s eta 0:00:01\r\u001b[K     |███████████████████▌            | 225 kB 7.4 MB/s eta 0:00:01\r\u001b[K     |████████████████████▍           | 235 kB 7.4 MB/s eta 0:00:01\r\u001b[K     |█████████████████████▎          | 245 kB 7.4 MB/s eta 0:00:01\r\u001b[K     |██████████████████████▏         | 256 kB 7.4 MB/s eta 0:00:01\r\u001b[K     |███████████████████████         | 266 kB 7.4 MB/s eta 0:00:01\r\u001b[K     |████████████████████████        | 276 kB 7.4 MB/s eta 0:00:01\r\u001b[K     |████████████████████████▉       | 286 kB 7.4 MB/s eta 0:00:01\r\u001b[K     |█████████████████████████▊      | 296 kB 7.4 MB/s eta 0:00:01\r\u001b[K     |██████████████████████████▋     | 307 kB 7.4 MB/s eta 0:00:01\r\u001b[K     |███████████████████████████▍    | 317 kB 7.4 MB/s eta 0:00:01\r\u001b[K     |████████████████████████████▎   | 327 kB 7.4 MB/s eta 0:00:01\r\u001b[K     |█████████████████████████████▏  | 337 kB 7.4 MB/s eta 0:00:01\r\u001b[K     |██████████████████████████████  | 348 kB 7.4 MB/s eta 0:00:01\r\u001b[K     |███████████████████████████████ | 358 kB 7.4 MB/s eta 0:00:01\r\u001b[K     |███████████████████████████████▉| 368 kB 7.4 MB/s eta 0:00:01\r\u001b[K     |████████████████████████████████| 370 kB 7.4 MB/s \n",
            "\u001b[?25hRequirement already satisfied: requests in /usr/local/lib/python3.7/dist-packages (from tf2onnx~=1.8.4) (2.23.0)\n",
            "Collecting onnx>=1.4.1\n",
            "  Downloading onnx-1.10.1-cp37-cp37m-manylinux_2_12_x86_64.manylinux2010_x86_64.whl (12.3 MB)\n",
            "\u001b[K     |████████████████████████████████| 12.3 MB 60.1 MB/s \n",
            "\u001b[?25hRequirement already satisfied: numpy>=1.14.1 in /usr/local/lib/python3.7/dist-packages (from tf2onnx~=1.8.4) (1.19.5)\n",
            "Requirement already satisfied: flatbuffers~=1.12 in /usr/local/lib/python3.7/dist-packages (from tf2onnx~=1.8.4) (1.12)\n",
            "Requirement already satisfied: six in /usr/local/lib/python3.7/dist-packages (from tf2onnx~=1.8.4) (1.15.0)\n",
            "Requirement already satisfied: typing-extensions>=3.6.2.1 in /usr/local/lib/python3.7/dist-packages (from onnx>=1.4.1->tf2onnx~=1.8.4) (3.7.4.3)\n",
            "Requirement already satisfied: protobuf in /usr/local/lib/python3.7/dist-packages (from onnx>=1.4.1->tf2onnx~=1.8.4) (3.17.3)\n",
            "Requirement already satisfied: certifi>=2017.4.17 in /usr/local/lib/python3.7/dist-packages (from requests->tf2onnx~=1.8.4) (2021.5.30)\n",
            "Requirement already satisfied: urllib3!=1.25.0,!=1.25.1,<1.26,>=1.21.1 in /usr/local/lib/python3.7/dist-packages (from requests->tf2onnx~=1.8.4) (1.24.3)\n",
            "Requirement already satisfied: chardet<4,>=3.0.2 in /usr/local/lib/python3.7/dist-packages (from requests->tf2onnx~=1.8.4) (3.0.4)\n",
            "Requirement already satisfied: idna<3,>=2.5 in /usr/local/lib/python3.7/dist-packages (from requests->tf2onnx~=1.8.4) (2.10)\n",
            "Installing collected packages: onnx, tf2onnx\n",
            "Successfully installed onnx-1.10.1 tf2onnx-1.8.5\n"
          ],
          "name": "stdout"
        }
      ]
    },
    {
      "cell_type": "code",
      "metadata": {
        "id": "CfW8mm0nQRu7"
      },
      "source": [
        "# Save the model in TF's Saved Model format:"
      ],
      "execution_count": 17,
      "outputs": []
    },
    {
      "cell_type": "code",
      "metadata": {
        "colab": {
          "base_uri": "https://localhost:8080/"
        },
        "id": "MWCgMKjYQUjD",
        "outputId": "02edf071-c1d6-4e5a-d73e-9c8758902990"
      },
      "source": [
        "model.save(\"my_saved_model/\")"
      ],
      "execution_count": 18,
      "outputs": [
        {
          "output_type": "stream",
          "text": [
            "WARNING:absl:Function `_wrapped_model` contains input name(s) efficientnetv2-s_input with unsupported characters which will be renamed to efficientnetv2_s_input in the SavedModel.\n",
            "/usr/local/lib/python3.7/dist-packages/tensorflow/python/keras/utils/generic_utils.py:497: CustomMaskWarning: Custom mask layers require a config and must override get_config. When loading, the custom mask layer must be passed to the custom_objects argument.\n",
            "  category=CustomMaskWarning)\n"
          ],
          "name": "stderr"
        },
        {
          "output_type": "stream",
          "text": [
            "INFO:tensorflow:Assets written to: my_saved_model/assets\n"
          ],
          "name": "stdout"
        },
        {
          "output_type": "stream",
          "text": [
            "INFO:tensorflow:Assets written to: my_saved_model/assets\n"
          ],
          "name": "stderr"
        }
      ]
    },
    {
      "cell_type": "code",
      "metadata": {
        "colab": {
          "base_uri": "https://localhost:8080/"
        },
        "id": "i7_mU3xAQmre",
        "outputId": "098709b9-38fb-4d93-d260-4eb854ca233f"
      },
      "source": [
        "# Convert:\n",
        "!python -m tf2onnx.convert \\\n",
        "  --saved-model my_saved_model/ \\\n",
        "  --output efficientnet_lite.onnx"
      ],
      "execution_count": 19,
      "outputs": [
        {
          "output_type": "stream",
          "text": [
            "2021-08-05 15:32:48.572785: I tensorflow/stream_executor/platform/default/dso_loader.cc:53] Successfully opened dynamic library libcudart.so.11.0\n",
            "/usr/lib/python3.7/runpy.py:125: RuntimeWarning: 'tf2onnx.convert' found in sys.modules after import of package 'tf2onnx', but prior to execution of 'tf2onnx.convert'; this may result in unpredictable behaviour\n",
            "  warn(RuntimeWarning(msg))\n",
            "2021-08-05 15:32:49.998243: I tensorflow/stream_executor/platform/default/dso_loader.cc:53] Successfully opened dynamic library libcuda.so.1\n",
            "2021-08-05 15:32:50.003909: I tensorflow/stream_executor/cuda/cuda_gpu_executor.cc:937] successful NUMA node read from SysFS had negative value (-1), but there must be at least one NUMA node, so returning NUMA node zero\n",
            "2021-08-05 15:32:50.004392: I tensorflow/core/common_runtime/gpu/gpu_device.cc:1733] Found device 0 with properties: \n",
            "pciBusID: 0000:00:04.0 name: Tesla T4 computeCapability: 7.5\n",
            "coreClock: 1.59GHz coreCount: 40 deviceMemorySize: 14.75GiB deviceMemoryBandwidth: 298.08GiB/s\n",
            "2021-08-05 15:32:50.004431: I tensorflow/stream_executor/platform/default/dso_loader.cc:53] Successfully opened dynamic library libcudart.so.11.0\n",
            "2021-08-05 15:32:50.009897: I tensorflow/stream_executor/platform/default/dso_loader.cc:53] Successfully opened dynamic library libcublas.so.11\n",
            "2021-08-05 15:32:50.009975: I tensorflow/stream_executor/platform/default/dso_loader.cc:53] Successfully opened dynamic library libcublasLt.so.11\n",
            "2021-08-05 15:32:50.011798: I tensorflow/stream_executor/platform/default/dso_loader.cc:53] Successfully opened dynamic library libcufft.so.10\n",
            "2021-08-05 15:32:50.012148: I tensorflow/stream_executor/platform/default/dso_loader.cc:53] Successfully opened dynamic library libcurand.so.10\n",
            "2021-08-05 15:32:50.019111: I tensorflow/stream_executor/platform/default/dso_loader.cc:53] Successfully opened dynamic library libcusolver.so.10\n",
            "2021-08-05 15:32:50.019715: I tensorflow/stream_executor/platform/default/dso_loader.cc:53] Successfully opened dynamic library libcusparse.so.11\n",
            "2021-08-05 15:32:50.019897: I tensorflow/stream_executor/platform/default/dso_loader.cc:53] Successfully opened dynamic library libcudnn.so.8\n",
            "2021-08-05 15:32:50.019993: I tensorflow/stream_executor/cuda/cuda_gpu_executor.cc:937] successful NUMA node read from SysFS had negative value (-1), but there must be at least one NUMA node, so returning NUMA node zero\n",
            "2021-08-05 15:32:50.020513: I tensorflow/stream_executor/cuda/cuda_gpu_executor.cc:937] successful NUMA node read from SysFS had negative value (-1), but there must be at least one NUMA node, so returning NUMA node zero\n",
            "2021-08-05 15:32:50.020965: I tensorflow/core/common_runtime/gpu/gpu_device.cc:1871] Adding visible gpu devices: 0\n",
            "2021-08-05 15:32:50.021297: I tensorflow/core/platform/cpu_feature_guard.cc:142] This TensorFlow binary is optimized with oneAPI Deep Neural Network Library (oneDNN) to use the following CPU instructions in performance-critical operations:  AVX512F\n",
            "To enable them in other operations, rebuild TensorFlow with the appropriate compiler flags.\n",
            "2021-08-05 15:32:50.021524: I tensorflow/stream_executor/cuda/cuda_gpu_executor.cc:937] successful NUMA node read from SysFS had negative value (-1), but there must be at least one NUMA node, so returning NUMA node zero\n",
            "2021-08-05 15:32:50.021961: I tensorflow/core/common_runtime/gpu/gpu_device.cc:1733] Found device 0 with properties: \n",
            "pciBusID: 0000:00:04.0 name: Tesla T4 computeCapability: 7.5\n",
            "coreClock: 1.59GHz coreCount: 40 deviceMemorySize: 14.75GiB deviceMemoryBandwidth: 298.08GiB/s\n",
            "2021-08-05 15:32:50.022032: I tensorflow/stream_executor/cuda/cuda_gpu_executor.cc:937] successful NUMA node read from SysFS had negative value (-1), but there must be at least one NUMA node, so returning NUMA node zero\n",
            "2021-08-05 15:32:50.022489: I tensorflow/stream_executor/cuda/cuda_gpu_executor.cc:937] successful NUMA node read from SysFS had negative value (-1), but there must be at least one NUMA node, so returning NUMA node zero\n",
            "2021-08-05 15:32:50.022932: I tensorflow/core/common_runtime/gpu/gpu_device.cc:1871] Adding visible gpu devices: 0\n",
            "2021-08-05 15:32:50.022996: I tensorflow/stream_executor/platform/default/dso_loader.cc:53] Successfully opened dynamic library libcudart.so.11.0\n",
            "2021-08-05 15:32:50.530805: I tensorflow/core/common_runtime/gpu/gpu_device.cc:1258] Device interconnect StreamExecutor with strength 1 edge matrix:\n",
            "2021-08-05 15:32:50.530859: I tensorflow/core/common_runtime/gpu/gpu_device.cc:1264]      0 \n",
            "2021-08-05 15:32:50.530873: I tensorflow/core/common_runtime/gpu/gpu_device.cc:1277] 0:   N \n",
            "2021-08-05 15:32:50.531030: I tensorflow/stream_executor/cuda/cuda_gpu_executor.cc:937] successful NUMA node read from SysFS had negative value (-1), but there must be at least one NUMA node, so returning NUMA node zero\n",
            "2021-08-05 15:32:50.531545: I tensorflow/stream_executor/cuda/cuda_gpu_executor.cc:937] successful NUMA node read from SysFS had negative value (-1), but there must be at least one NUMA node, so returning NUMA node zero\n",
            "2021-08-05 15:32:50.532015: I tensorflow/stream_executor/cuda/cuda_gpu_executor.cc:937] successful NUMA node read from SysFS had negative value (-1), but there must be at least one NUMA node, so returning NUMA node zero\n",
            "2021-08-05 15:32:50.532446: W tensorflow/core/common_runtime/gpu/gpu_bfc_allocator.cc:39] Overriding allow_growth setting because the TF_FORCE_GPU_ALLOW_GROWTH environment variable is set. Original config value was 0.\n",
            "2021-08-05 15:32:50.532494: I tensorflow/core/common_runtime/gpu/gpu_device.cc:1418] Created TensorFlow device (/job:localhost/replica:0/task:0/device:GPU:0 with 9056 MB memory) -> physical GPU (device: 0, name: Tesla T4, pci bus id: 0000:00:04.0, compute capability: 7.5)\n",
            "2021-08-05 15:32:50,533 - WARNING - '--tag' not specified for saved_model. Using --tag serve\n",
            "2021-08-05 15:32:51,316 - WARNING - Importing a function (__inference_block4f_activation_layer_call_and_return_conditional_losses_232877) with ops with custom gradients. Will likely fail if a gradient is requested.\n",
            "2021-08-05 15:32:51,333 - WARNING - Importing a function (__inference_block4e_activation_layer_call_and_return_conditional_losses_169954) with ops with custom gradients. Will likely fail if a gradient is requested.\n",
            "2021-08-05 15:32:51,360 - WARNING - Importing a function (__inference_block2d_expand_activation_layer_call_and_return_conditional_losses_228377) with ops with custom gradients. Will likely fail if a gradient is requested.\n",
            "2021-08-05 15:32:51,389 - WARNING - Importing a function (__inference_block6b_activation_layer_call_and_return_conditional_losses_172432) with ops with custom gradients. Will likely fail if a gradient is requested.\n",
            "2021-08-05 15:32:51,508 - WARNING - Importing a function (__inference_block6m_activation_layer_call_and_return_conditional_losses_174731) with ops with custom gradients. Will likely fail if a gradient is requested.\n",
            "2021-08-05 15:32:51,544 - WARNING - Importing a function (__inference_block6j_se_reduce_layer_call_and_return_conditional_losses_174139) with ops with custom gradients. Will likely fail if a gradient is requested.\n",
            "2021-08-05 15:32:51,550 - WARNING - Importing a function (__inference_block6h_expand_activation_layer_call_and_return_conditional_losses_173644) with ops with custom gradients. Will likely fail if a gradient is requested.\n",
            "2021-08-05 15:32:51,561 - WARNING - Importing a function (__inference_block6l_activation_layer_call_and_return_conditional_losses_174522) with ops with custom gradients. Will likely fail if a gradient is requested.\n",
            "2021-08-05 15:32:51,597 - WARNING - Importing a function (__inference_block6m_expand_activation_layer_call_and_return_conditional_losses_174689) with ops with custom gradients. Will likely fail if a gradient is requested.\n",
            "2021-08-05 15:32:51,662 - WARNING - Importing a function (__inference_block1b_project_activation_layer_call_and_return_conditional_losses_168232) with ops with custom gradients. Will likely fail if a gradient is requested.\n",
            "2021-08-05 15:32:51,666 - WARNING - Importing a function (__inference_block5b_se_reduce_layer_call_and_return_conditional_losses_233980) with ops with custom gradients. Will likely fail if a gradient is requested.\n",
            "2021-08-05 15:32:51,670 - WARNING - Importing a function (__inference_block3a_expand_activation_layer_call_and_return_conditional_losses_228715) with ops with custom gradients. Will likely fail if a gradient is requested.\n",
            "2021-08-05 15:32:51,681 - WARNING - Importing a function (__inference_block6n_se_reduce_layer_call_and_return_conditional_losses_174975) with ops with custom gradients. Will likely fail if a gradient is requested.\n",
            "2021-08-05 15:32:51,700 - WARNING - Importing a function (__inference_block5a_activation_layer_call_and_return_conditional_losses_170372) with ops with custom gradients. Will likely fail if a gradient is requested.\n",
            "2021-08-05 15:32:51,814 - WARNING - Importing a function (__inference_block6d_expand_activation_layer_call_and_return_conditional_losses_172808) with ops with custom gradients. Will likely fail if a gradient is requested.\n",
            "2021-08-05 15:32:52,234 - WARNING - Importing a function (__inference_block3b_expand_activation_layer_call_and_return_conditional_losses_168782) with ops with custom gradients. Will likely fail if a gradient is requested.\n",
            "2021-08-05 15:32:52,253 - WARNING - Importing a function (__inference_block6j_expand_activation_layer_call_and_return_conditional_losses_174062) with ops with custom gradients. Will likely fail if a gradient is requested.\n",
            "2021-08-05 15:32:52,365 - WARNING - Importing a function (__inference_block5a_se_reduce_layer_call_and_return_conditional_losses_170407) with ops with custom gradients. Will likely fail if a gradient is requested.\n",
            "2021-08-05 15:32:52,371 - WARNING - Importing a function (__inference_block4a_expand_activation_layer_call_and_return_conditional_losses_169091) with ops with custom gradients. Will likely fail if a gradient is requested.\n",
            "2021-08-05 15:32:52,376 - WARNING - Importing a function (__inference_block6o_activation_layer_call_and_return_conditional_losses_246055) with ops with custom gradients. Will likely fail if a gradient is requested.\n",
            "2021-08-05 15:32:52,455 - WARNING - Importing a function (__inference_block6d_activation_layer_call_and_return_conditional_losses_239972) with ops with custom gradients. Will likely fail if a gradient is requested.\n",
            "2021-08-05 15:32:52,485 - WARNING - Importing a function (__inference_block5e_expand_activation_layer_call_and_return_conditional_losses_171151) with ops with custom gradients. Will likely fail if a gradient is requested.\n",
            "2021-08-05 15:32:52,495 - WARNING - Importing a function (__inference_block5i_expand_activation_layer_call_and_return_conditional_losses_171987) with ops with custom gradients. Will likely fail if a gradient is requested.\n",
            "2021-08-05 15:32:52,514 - WARNING - Importing a function (__inference_block6m_se_reduce_layer_call_and_return_conditional_losses_244993) with ops with custom gradients. Will likely fail if a gradient is requested.\n",
            "2021-08-05 15:32:52,628 - WARNING - Importing a function (__inference_block6j_expand_activation_layer_call_and_return_conditional_losses_243151) with ops with custom gradients. Will likely fail if a gradient is requested.\n",
            "2021-08-05 15:32:52,718 - WARNING - Importing a function (__inference_block5e_activation_layer_call_and_return_conditional_losses_235595) with ops with custom gradients. Will likely fail if a gradient is requested.\n",
            "2021-08-05 15:32:52,731 - WARNING - Importing a function (__inference_block6i_activation_layer_call_and_return_conditional_losses_242737) with ops with custom gradients. Will likely fail if a gradient is requested.\n",
            "2021-08-05 15:32:52,741 - WARNING - Importing a function (__inference_block4f_expand_activation_layer_call_and_return_conditional_losses_170121) with ops with custom gradients. Will likely fail if a gradient is requested.\n",
            "2021-08-05 15:32:52,873 - WARNING - Importing a function (__inference_block4c_activation_layer_call_and_return_conditional_losses_169536) with ops with custom gradients. Will likely fail if a gradient is requested.\n",
            "2021-08-05 15:32:52,904 - WARNING - Importing a function (__inference_block6o_se_reduce_layer_call_and_return_conditional_losses_175184) with ops with custom gradients. Will likely fail if a gradient is requested.\n",
            "2021-08-05 15:32:52,938 - WARNING - Importing a function (__inference_block5b_se_reduce_layer_call_and_return_conditional_losses_170601) with ops with custom gradients. Will likely fail if a gradient is requested.\n",
            "2021-08-05 15:32:53,122 - WARNING - Importing a function (__inference_block5e_activation_layer_call_and_return_conditional_losses_171193) with ops with custom gradients. Will likely fail if a gradient is requested.\n",
            "2021-08-05 15:32:53,182 - WARNING - Importing a function (__inference_block4c_se_reduce_layer_call_and_return_conditional_losses_231262) with ops with custom gradients. Will likely fail if a gradient is requested.\n",
            "2021-08-05 15:32:53,286 - WARNING - Importing a function (__inference_block5h_activation_layer_call_and_return_conditional_losses_237254) with ops with custom gradients. Will likely fail if a gradient is requested.\n",
            "2021-08-05 15:32:53,321 - WARNING - Importing a function (__inference_block4b_expand_activation_layer_call_and_return_conditional_losses_230526) with ops with custom gradients. Will likely fail if a gradient is requested.\n",
            "2021-08-05 15:32:53,324 - WARNING - Importing a function (__inference_block6h_activation_layer_call_and_return_conditional_losses_173686) with ops with custom gradients. Will likely fail if a gradient is requested.\n",
            "2021-08-05 15:32:53,334 - WARNING - Importing a function (__inference_block4e_se_reduce_layer_call_and_return_conditional_losses_169989) with ops with custom gradients. Will likely fail if a gradient is requested.\n",
            "2021-08-05 15:32:53,347 - WARNING - Importing a function (__inference_block1b_project_activation_layer_call_and_return_conditional_losses_227210) with ops with custom gradients. Will likely fail if a gradient is requested.\n",
            "2021-08-05 15:32:53,354 - WARNING - Importing a function (__inference_block6m_expand_activation_layer_call_and_return_conditional_losses_244810) with ops with custom gradients. Will likely fail if a gradient is requested.\n",
            "2021-08-05 15:32:53,371 - WARNING - Importing a function (__inference_block5f_se_reduce_layer_call_and_return_conditional_losses_236192) with ops with custom gradients. Will likely fail if a gradient is requested.\n",
            "2021-08-05 15:32:53,429 - WARNING - Importing a function (__inference_block4f_expand_activation_layer_call_and_return_conditional_losses_232738) with ops with custom gradients. Will likely fail if a gradient is requested.\n",
            "2021-08-05 15:32:53,517 - WARNING - Importing a function (__inference_block5c_se_reduce_layer_call_and_return_conditional_losses_234533) with ops with custom gradients. Will likely fail if a gradient is requested.\n",
            "2021-08-05 15:32:53,527 - WARNING - Importing a function (__inference_block6c_activation_layer_call_and_return_conditional_losses_172641) with ops with custom gradients. Will likely fail if a gradient is requested.\n",
            "2021-08-05 15:32:53,603 - WARNING - Importing a function (__inference_block6g_se_reduce_layer_call_and_return_conditional_losses_241675) with ops with custom gradients. Will likely fail if a gradient is requested.\n",
            "2021-08-05 15:32:53,685 - WARNING - Importing a function (__inference_block4d_expand_activation_layer_call_and_return_conditional_losses_169703) with ops with custom gradients. Will likely fail if a gradient is requested.\n",
            "2021-08-05 15:32:53,693 - WARNING - Importing a function (__inference_block6a_activation_layer_call_and_return_conditional_losses_172238) with ops with custom gradients. Will likely fail if a gradient is requested.\n",
            "2021-08-05 15:32:53,715 - WARNING - Importing a function (__inference_block6g_activation_layer_call_and_return_conditional_losses_241631) with ops with custom gradients. Will likely fail if a gradient is requested.\n",
            "2021-08-05 15:32:53,812 - WARNING - Importing a function (__inference_block6h_se_reduce_layer_call_and_return_conditional_losses_173721) with ops with custom gradients. Will likely fail if a gradient is requested.\n",
            "2021-08-05 15:32:53,824 - WARNING - Importing a function (__inference_stem_activation_layer_call_and_return_conditional_losses_168124) with ops with custom gradients. Will likely fail if a gradient is requested.\n",
            "2021-08-05 15:32:53,828 - WARNING - Importing a function (__inference_block5f_expand_activation_layer_call_and_return_conditional_losses_171360) with ops with custom gradients. Will likely fail if a gradient is requested.\n",
            "2021-08-05 15:32:53,833 - WARNING - Importing a function (__inference_block3a_expand_activation_layer_call_and_return_conditional_losses_168694) with ops with custom gradients. Will likely fail if a gradient is requested.\n",
            "2021-08-05 15:32:53,858 - WARNING - Importing a function (__inference_block6b_se_reduce_layer_call_and_return_conditional_losses_238910) with ops with custom gradients. Will likely fail if a gradient is requested.\n",
            "2021-08-05 15:32:53,863 - WARNING - Importing a function (__inference_block4f_se_reduce_layer_call_and_return_conditional_losses_232921) with ops with custom gradients. Will likely fail if a gradient is requested.\n",
            "2021-08-05 15:32:53,894 - WARNING - Importing a function (__inference_block5d_expand_activation_layer_call_and_return_conditional_losses_170942) with ops with custom gradients. Will likely fail if a gradient is requested.\n",
            "2021-08-05 15:32:53,952 - WARNING - Importing a function (__inference_sequential_layer_call_and_return_conditional_losses_216699) with ops with custom gradients. Will likely fail if a gradient is requested.\n",
            "2021-08-05 15:32:54,630 - WARNING - Importing a function (__inference_block6e_se_reduce_layer_call_and_return_conditional_losses_173094) with ops with custom gradients. Will likely fail if a gradient is requested.\n",
            "2021-08-05 15:32:54,636 - WARNING - Importing a function (__inference_block6m_se_reduce_layer_call_and_return_conditional_losses_174766) with ops with custom gradients. Will likely fail if a gradient is requested.\n",
            "2021-08-05 15:32:54,678 - WARNING - Importing a function (__inference_block6i_se_reduce_layer_call_and_return_conditional_losses_173930) with ops with custom gradients. Will likely fail if a gradient is requested.\n",
            "2021-08-05 15:32:54,767 - WARNING - Importing a function (__inference_block6l_se_reduce_layer_call_and_return_conditional_losses_244440) with ops with custom gradients. Will likely fail if a gradient is requested.\n",
            "2021-08-05 15:32:54,786 - WARNING - Importing a function (__inference_block6f_expand_activation_layer_call_and_return_conditional_losses_240939) with ops with custom gradients. Will likely fail if a gradient is requested.\n",
            "2021-08-05 15:32:54,800 - WARNING - Importing a function (__inference_block6b_se_reduce_layer_call_and_return_conditional_losses_172467) with ops with custom gradients. Will likely fail if a gradient is requested.\n",
            "2021-08-05 15:32:54,807 - WARNING - Importing a function (__inference_block3b_expand_activation_layer_call_and_return_conditional_losses_229006) with ops with custom gradients. Will likely fail if a gradient is requested.\n",
            "2021-08-05 15:32:54,809 - WARNING - Importing a function (__inference_block6g_expand_activation_layer_call_and_return_conditional_losses_241492) with ops with custom gradients. Will likely fail if a gradient is requested.\n",
            "2021-08-05 15:32:54,812 - WARNING - Importing a function (__inference_block5h_se_reduce_layer_call_and_return_conditional_losses_171855) with ops with custom gradients. Will likely fail if a gradient is requested.\n",
            "2021-08-05 15:32:54,831 - WARNING - Importing a function (__inference_block2a_expand_activation_layer_call_and_return_conditional_losses_168297) with ops with custom gradients. Will likely fail if a gradient is requested.\n",
            "2021-08-05 15:32:54,899 - WARNING - Importing a function (__inference_block5a_expand_activation_layer_call_and_return_conditional_losses_233291) with ops with custom gradients. Will likely fail if a gradient is requested.\n",
            "2021-08-05 15:32:54,944 - WARNING - Importing a function (__inference_block5a_activation_layer_call_and_return_conditional_losses_233430) with ops with custom gradients. Will likely fail if a gradient is requested.\n",
            "2021-08-05 15:32:54,946 - WARNING - Importing a function (__inference_block5g_activation_layer_call_and_return_conditional_losses_171611) with ops with custom gradients. Will likely fail if a gradient is requested.\n",
            "2021-08-05 15:32:54,950 - WARNING - Importing a function (__inference_block5a_expand_activation_layer_call_and_return_conditional_losses_170330) with ops with custom gradients. Will likely fail if a gradient is requested.\n",
            "2021-08-05 15:32:54,954 - WARNING - Importing a function (__inference_block5b_activation_layer_call_and_return_conditional_losses_233936) with ops with custom gradients. Will likely fail if a gradient is requested.\n",
            "2021-08-05 15:32:55,027 - WARNING - Importing a function (__inference_block4b_se_reduce_layer_call_and_return_conditional_losses_230709) with ops with custom gradients. Will likely fail if a gradient is requested.\n",
            "2021-08-05 15:32:55,045 - WARNING - Importing a function (__inference_block6o_activation_layer_call_and_return_conditional_losses_175149) with ops with custom gradients. Will likely fail if a gradient is requested.\n",
            "2021-08-05 15:32:55,058 - WARNING - Importing a function (__inference_block6l_activation_layer_call_and_return_conditional_losses_244396) with ops with custom gradients. Will likely fail if a gradient is requested.\n",
            "2021-08-05 15:32:55,151 - WARNING - Importing a function (__inference_block5h_activation_layer_call_and_return_conditional_losses_171820) with ops with custom gradients. Will likely fail if a gradient is requested.\n",
            "2021-08-05 15:32:55,193 - WARNING - Importing a function (__inference_block6a_se_reduce_layer_call_and_return_conditional_losses_172273) with ops with custom gradients. Will likely fail if a gradient is requested.\n",
            "2021-08-05 15:32:55,232 - WARNING - Importing a function (__inference_block5f_expand_activation_layer_call_and_return_conditional_losses_236009) with ops with custom gradients. Will likely fail if a gradient is requested.\n",
            "2021-08-05 15:32:55,275 - WARNING - Importing a function (__inference_block6k_activation_layer_call_and_return_conditional_losses_243843) with ops with custom gradients. Will likely fail if a gradient is requested.\n",
            "2021-08-05 15:32:55,280 - WARNING - Importing a function (__inference_block4b_se_reduce_layer_call_and_return_conditional_losses_169362) with ops with custom gradients. Will likely fail if a gradient is requested.\n",
            "2021-08-05 15:32:55,410 - WARNING - Importing a function (__inference_block6f_activation_layer_call_and_return_conditional_losses_241078) with ops with custom gradients. Will likely fail if a gradient is requested.\n",
            "2021-08-05 15:32:55,457 - WARNING - Importing a function (__inference_block6c_se_reduce_layer_call_and_return_conditional_losses_239463) with ops with custom gradients. Will likely fail if a gradient is requested.\n",
            "2021-08-05 15:32:55,479 - WARNING - Importing a function (__inference_block5b_expand_activation_layer_call_and_return_conditional_losses_233797) with ops with custom gradients. Will likely fail if a gradient is requested.\n",
            "2021-08-05 15:32:55,515 - WARNING - Importing a function (__inference_block6h_se_reduce_layer_call_and_return_conditional_losses_242228) with ops with custom gradients. Will likely fail if a gradient is requested.\n",
            "2021-08-05 15:32:55,538 - WARNING - Importing a function (__inference_block5c_expand_activation_layer_call_and_return_conditional_losses_170733) with ops with custom gradients. Will likely fail if a gradient is requested.\n",
            "2021-08-05 15:32:55,582 - WARNING - Importing a function (__inference_block6e_expand_activation_layer_call_and_return_conditional_losses_240386) with ops with custom gradients. Will likely fail if a gradient is requested.\n",
            "2021-08-05 15:32:55,658 - WARNING - Importing a function (__inference_block4c_expand_activation_layer_call_and_return_conditional_losses_231079) with ops with custom gradients. Will likely fail if a gradient is requested.\n",
            "2021-08-05 15:32:55,667 - WARNING - Importing a function (__inference_block6g_se_reduce_layer_call_and_return_conditional_losses_173512) with ops with custom gradients. Will likely fail if a gradient is requested.\n",
            "2021-08-05 15:32:55,689 - WARNING - Importing a function (__inference_block4d_expand_activation_layer_call_and_return_conditional_losses_231632) with ops with custom gradients. Will likely fail if a gradient is requested.\n",
            "2021-08-05 15:32:55,695 - WARNING - Importing a function (__inference_block4e_expand_activation_layer_call_and_return_conditional_losses_169912) with ops with custom gradients. Will likely fail if a gradient is requested.\n",
            "2021-08-05 15:32:55,736 - WARNING - Importing a function (__inference_block6l_expand_activation_layer_call_and_return_conditional_losses_244257) with ops with custom gradients. Will likely fail if a gradient is requested.\n",
            "2021-08-05 15:32:55,739 - WARNING - Importing a function (__inference_block4c_activation_layer_call_and_return_conditional_losses_231218) with ops with custom gradients. Will likely fail if a gradient is requested.\n",
            "2021-08-05 15:32:55,764 - WARNING - Importing a function (__inference_block6h_expand_activation_layer_call_and_return_conditional_losses_242045) with ops with custom gradients. Will likely fail if a gradient is requested.\n",
            "2021-08-05 15:32:55,783 - WARNING - Importing a function (__inference_block6j_activation_layer_call_and_return_conditional_losses_174104) with ops with custom gradients. Will likely fail if a gradient is requested.\n",
            "2021-08-05 15:32:55,792 - WARNING - Importing a function (__inference_block6g_expand_activation_layer_call_and_return_conditional_losses_173435) with ops with custom gradients. Will likely fail if a gradient is requested.\n",
            "2021-08-05 15:32:55,822 - WARNING - Importing a function (__inference_block2d_expand_activation_layer_call_and_return_conditional_losses_168591) with ops with custom gradients. Will likely fail if a gradient is requested.\n",
            "2021-08-05 15:32:55,895 - WARNING - Importing a function (__inference_block6n_expand_activation_layer_call_and_return_conditional_losses_174898) with ops with custom gradients. Will likely fail if a gradient is requested.\n",
            "2021-08-05 15:32:55,899 - WARNING - Importing a function (__inference_block5g_expand_activation_layer_call_and_return_conditional_losses_236562) with ops with custom gradients. Will likely fail if a gradient is requested.\n",
            "2021-08-05 15:32:55,948 - WARNING - Importing a function (__inference_block6f_expand_activation_layer_call_and_return_conditional_losses_173226) with ops with custom gradients. Will likely fail if a gradient is requested.\n",
            "2021-08-05 15:32:55,953 - WARNING - Importing a function (__inference_block6n_activation_layer_call_and_return_conditional_losses_174940) with ops with custom gradients. Will likely fail if a gradient is requested.\n",
            "2021-08-05 15:32:55,964 - WARNING - Importing a function (__inference_block6m_activation_layer_call_and_return_conditional_losses_244949) with ops with custom gradients. Will likely fail if a gradient is requested.\n",
            "2021-08-05 15:32:55,974 - WARNING - Importing a function (__inference_block6a_activation_layer_call_and_return_conditional_losses_238360) with ops with custom gradients. Will likely fail if a gradient is requested.\n",
            "2021-08-05 15:32:56,184 - WARNING - Importing a function (__inference_block5c_se_reduce_layer_call_and_return_conditional_losses_170810) with ops with custom gradients. Will likely fail if a gradient is requested.\n",
            "2021-08-05 15:32:56,213 - WARNING - Importing a function (__inference_block5g_se_reduce_layer_call_and_return_conditional_losses_236745) with ops with custom gradients. Will likely fail if a gradient is requested.\n",
            "2021-08-05 15:32:56,234 - WARNING - Importing a function (__inference_block5c_expand_activation_layer_call_and_return_conditional_losses_234350) with ops with custom gradients. Will likely fail if a gradient is requested.\n",
            "2021-08-05 15:32:56,261 - WARNING - Importing a function (__inference_block6a_expand_activation_layer_call_and_return_conditional_losses_172196) with ops with custom gradients. Will likely fail if a gradient is requested.\n",
            "2021-08-05 15:32:56,298 - WARNING - Importing a function (__inference_block4e_expand_activation_layer_call_and_return_conditional_losses_232185) with ops with custom gradients. Will likely fail if a gradient is requested.\n",
            "2021-08-05 15:32:56,300 - WARNING - Importing a function (__inference_block4a_se_reduce_layer_call_and_return_conditional_losses_230203) with ops with custom gradients. Will likely fail if a gradient is requested.\n",
            "2021-08-05 15:32:56,347 - WARNING - Importing a function (__inference_block5f_activation_layer_call_and_return_conditional_losses_171402) with ops with custom gradients. Will likely fail if a gradient is requested.\n",
            "2021-08-05 15:32:56,407 - WARNING - Importing a function (__inference_block6o_se_reduce_layer_call_and_return_conditional_losses_246099) with ops with custom gradients. Will likely fail if a gradient is requested.\n",
            "2021-08-05 15:32:56,434 - WARNING - Importing a function (__inference_block2c_expand_activation_layer_call_and_return_conditional_losses_168488) with ops with custom gradients. Will likely fail if a gradient is requested.\n",
            "2021-08-05 15:32:56,452 - WARNING - Importing a function (__inference_block6h_activation_layer_call_and_return_conditional_losses_242184) with ops with custom gradients. Will likely fail if a gradient is requested.\n",
            "2021-08-05 15:32:56,524 - WARNING - Importing a function (__inference_top_activation_layer_call_and_return_conditional_losses_246469) with ops with custom gradients. Will likely fail if a gradient is requested.\n",
            "2021-08-05 15:32:56,586 - WARNING - Importing a function (__inference_block4a_activation_layer_call_and_return_conditional_losses_230159) with ops with custom gradients. Will likely fail if a gradient is requested.\n",
            "2021-08-05 15:32:56,667 - WARNING - Importing a function (__inference_block5i_activation_layer_call_and_return_conditional_losses_237807) with ops with custom gradients. Will likely fail if a gradient is requested.\n",
            "2021-08-05 15:32:56,669 - WARNING - Importing a function (__inference_block4a_expand_activation_layer_call_and_return_conditional_losses_230020) with ops with custom gradients. Will likely fail if a gradient is requested.\n",
            "2021-08-05 15:32:56,678 - WARNING - Importing a function (__inference_block6o_expand_activation_layer_call_and_return_conditional_losses_175107) with ops with custom gradients. Will likely fail if a gradient is requested.\n",
            "2021-08-05 15:32:56,682 - WARNING - Importing a function (__inference_block6c_expand_activation_layer_call_and_return_conditional_losses_239280) with ops with custom gradients. Will likely fail if a gradient is requested.\n",
            "2021-08-05 15:32:56,725 - WARNING - Importing a function (__inference_block6l_expand_activation_layer_call_and_return_conditional_losses_174480) with ops with custom gradients. Will likely fail if a gradient is requested.\n",
            "2021-08-05 15:32:56,729 - WARNING - Importing a function (__inference_block4b_activation_layer_call_and_return_conditional_losses_169327) with ops with custom gradients. Will likely fail if a gradient is requested.\n",
            "2021-08-05 15:32:56,757 - WARNING - Importing a function (__inference_block5i_expand_activation_layer_call_and_return_conditional_losses_237668) with ops with custom gradients. Will likely fail if a gradient is requested.\n",
            "2021-08-05 15:32:56,760 - WARNING - Importing a function (__inference_block4c_expand_activation_layer_call_and_return_conditional_losses_169494) with ops with custom gradients. Will likely fail if a gradient is requested.\n",
            "2021-08-05 15:32:56,765 - WARNING - Importing a function (__inference_block2c_expand_activation_layer_call_and_return_conditional_losses_228039) with ops with custom gradients. Will likely fail if a gradient is requested.\n",
            "2021-08-05 15:32:56,772 - WARNING - Importing a function (__inference_block6o_expand_activation_layer_call_and_return_conditional_losses_245916) with ops with custom gradients. Will likely fail if a gradient is requested.\n",
            "2021-08-05 15:32:56,825 - WARNING - Importing a function (__inference_block6n_activation_layer_call_and_return_conditional_losses_245502) with ops with custom gradients. Will likely fail if a gradient is requested.\n",
            "2021-08-05 15:32:56,918 - WARNING - Importing a function (__inference_block5c_activation_layer_call_and_return_conditional_losses_234489) with ops with custom gradients. Will likely fail if a gradient is requested.\n",
            "2021-08-05 15:32:56,963 - WARNING - Importing a function (__inference_block6n_expand_activation_layer_call_and_return_conditional_losses_245363) with ops with custom gradients. Will likely fail if a gradient is requested.\n",
            "2021-08-05 15:32:56,987 - WARNING - Importing a function (__inference_block5d_activation_layer_call_and_return_conditional_losses_235042) with ops with custom gradients. Will likely fail if a gradient is requested.\n",
            "2021-08-05 15:32:57,052 - WARNING - Importing a function (__inference_efficientnetv2-s_layer_call_and_return_conditional_losses_222786) with ops with custom gradients. Will likely fail if a gradient is requested.\n",
            "2021-08-05 15:32:57,575 - WARNING - Importing a function (__inference_block4a_activation_layer_call_and_return_conditional_losses_169133) with ops with custom gradients. Will likely fail if a gradient is requested.\n",
            "2021-08-05 15:32:57,618 - WARNING - Importing a function (__inference__wrapped_model_153266) with ops with custom gradients. Will likely fail if a gradient is requested.\n",
            "2021-08-05 15:32:58,191 - WARNING - Importing a function (__inference_block1a_project_activation_layer_call_and_return_conditional_losses_227045) with ops with custom gradients. Will likely fail if a gradient is requested.\n",
            "2021-08-05 15:32:58,202 - WARNING - Importing a function (__inference_block4e_activation_layer_call_and_return_conditional_losses_232324) with ops with custom gradients. Will likely fail if a gradient is requested.\n",
            "2021-08-05 15:32:58,231 - WARNING - Importing a function (__inference_block5e_expand_activation_layer_call_and_return_conditional_losses_235456) with ops with custom gradients. Will likely fail if a gradient is requested.\n",
            "2021-08-05 15:32:58,282 - WARNING - Importing a function (__inference_block6d_se_reduce_layer_call_and_return_conditional_losses_240016) with ops with custom gradients. Will likely fail if a gradient is requested.\n",
            "2021-08-05 15:32:58,579 - WARNING - Importing a function (__inference_block3c_expand_activation_layer_call_and_return_conditional_losses_229344) with ops with custom gradients. Will likely fail if a gradient is requested.\n",
            "2021-08-05 15:32:58,586 - WARNING - Importing a function (__inference_block6i_expand_activation_layer_call_and_return_conditional_losses_242598) with ops with custom gradients. Will likely fail if a gradient is requested.\n",
            "2021-08-05 15:32:58,622 - WARNING - Importing a function (__inference_block6e_activation_layer_call_and_return_conditional_losses_240525) with ops with custom gradients. Will likely fail if a gradient is requested.\n",
            "2021-08-05 15:32:58,655 - WARNING - Importing a function (__inference_block6d_expand_activation_layer_call_and_return_conditional_losses_239833) with ops with custom gradients. Will likely fail if a gradient is requested.\n",
            "2021-08-05 15:32:58,682 - WARNING - Importing a function (__inference_block4d_se_reduce_layer_call_and_return_conditional_losses_169780) with ops with custom gradients. Will likely fail if a gradient is requested.\n",
            "2021-08-05 15:32:58,694 - WARNING - Importing a function (__inference_block5g_se_reduce_layer_call_and_return_conditional_losses_171646) with ops with custom gradients. Will likely fail if a gradient is requested.\n",
            "2021-08-05 15:32:58,726 - WARNING - Importing a function (__inference_block3d_expand_activation_layer_call_and_return_conditional_losses_229682) with ops with custom gradients. Will likely fail if a gradient is requested.\n",
            "2021-08-05 15:32:58,767 - WARNING - Importing a function (__inference_block5d_expand_activation_layer_call_and_return_conditional_losses_234903) with ops with custom gradients. Will likely fail if a gradient is requested.\n",
            "2021-08-05 15:32:58,826 - WARNING - Importing a function (__inference_block4f_activation_layer_call_and_return_conditional_losses_170163) with ops with custom gradients. Will likely fail if a gradient is requested.\n",
            "2021-08-05 15:32:58,900 - WARNING - Importing a function (__inference_efficientnetv2-s_layer_call_and_return_conditional_losses_226693) with ops with custom gradients. Will likely fail if a gradient is requested.\n",
            "2021-08-05 15:32:59,572 - WARNING - Importing a function (__inference_block6a_expand_activation_layer_call_and_return_conditional_losses_238221) with ops with custom gradients. Will likely fail if a gradient is requested.\n",
            "2021-08-05 15:32:59,586 - WARNING - Importing a function (__inference_block6j_se_reduce_layer_call_and_return_conditional_losses_243334) with ops with custom gradients. Will likely fail if a gradient is requested.\n",
            "2021-08-05 15:32:59,634 - WARNING - Importing a function (__inference_block6c_activation_layer_call_and_return_conditional_losses_239419) with ops with custom gradients. Will likely fail if a gradient is requested.\n",
            "2021-08-05 15:32:59,647 - WARNING - Importing a function (__inference_block5b_expand_activation_layer_call_and_return_conditional_losses_170524) with ops with custom gradients. Will likely fail if a gradient is requested.\n",
            "2021-08-05 15:32:59,684 - WARNING - Importing a function (__inference_block5f_se_reduce_layer_call_and_return_conditional_losses_171437) with ops with custom gradients. Will likely fail if a gradient is requested.\n",
            "2021-08-05 15:32:59,697 - WARNING - Importing a function (__inference_block6i_expand_activation_layer_call_and_return_conditional_losses_173853) with ops with custom gradients. Will likely fail if a gradient is requested.\n",
            "2021-08-05 15:32:59,701 - WARNING - Importing a function (__inference_block4f_se_reduce_layer_call_and_return_conditional_losses_170198) with ops with custom gradients. Will likely fail if a gradient is requested.\n",
            "2021-08-05 15:32:59,798 - WARNING - Importing a function (__inference_block3c_expand_activation_layer_call_and_return_conditional_losses_168885) with ops with custom gradients. Will likely fail if a gradient is requested.\n",
            "2021-08-05 15:32:59,803 - WARNING - Importing a function (__inference_block6a_se_reduce_layer_call_and_return_conditional_losses_238404) with ops with custom gradients. Will likely fail if a gradient is requested.\n",
            "2021-08-05 15:32:59,857 - WARNING - Importing a function (__inference_block6n_se_reduce_layer_call_and_return_conditional_losses_245546) with ops with custom gradients. Will likely fail if a gradient is requested.\n",
            "2021-08-05 15:32:59,890 - WARNING - Importing a function (__inference_block5f_activation_layer_call_and_return_conditional_losses_236148) with ops with custom gradients. Will likely fail if a gradient is requested.\n",
            "2021-08-05 15:32:59,913 - WARNING - Importing a function (__inference_block6c_expand_activation_layer_call_and_return_conditional_losses_172599) with ops with custom gradients. Will likely fail if a gradient is requested.\n",
            "2021-08-05 15:32:59,917 - WARNING - Importing a function (__inference_block5h_se_reduce_layer_call_and_return_conditional_losses_237298) with ops with custom gradients. Will likely fail if a gradient is requested.\n",
            "2021-08-05 15:32:59,929 - WARNING - Importing a function (__inference_block4d_activation_layer_call_and_return_conditional_losses_231771) with ops with custom gradients. Will likely fail if a gradient is requested.\n",
            "2021-08-05 15:33:00,057 - WARNING - Importing a function (__inference_block5i_activation_layer_call_and_return_conditional_losses_172029) with ops with custom gradients. Will likely fail if a gradient is requested.\n",
            "2021-08-05 15:33:00,072 - WARNING - Importing a function (__inference_block1a_project_activation_layer_call_and_return_conditional_losses_168174) with ops with custom gradients. Will likely fail if a gradient is requested.\n",
            "2021-08-05 15:33:00,093 - WARNING - Importing a function (__inference_block6b_activation_layer_call_and_return_conditional_losses_238866) with ops with custom gradients. Will likely fail if a gradient is requested.\n",
            "2021-08-05 15:33:00,095 - WARNING - Importing a function (__inference_block5i_se_reduce_layer_call_and_return_conditional_losses_172064) with ops with custom gradients. Will likely fail if a gradient is requested.\n",
            "2021-08-05 15:33:00,144 - WARNING - Importing a function (__inference_block4b_expand_activation_layer_call_and_return_conditional_losses_169285) with ops with custom gradients. Will likely fail if a gradient is requested.\n",
            "2021-08-05 15:33:00,155 - WARNING - Importing a function (__inference_block6j_activation_layer_call_and_return_conditional_losses_243290) with ops with custom gradients. Will likely fail if a gradient is requested.\n",
            "2021-08-05 15:33:00,164 - WARNING - Importing a function (__inference_block5d_se_reduce_layer_call_and_return_conditional_losses_235086) with ops with custom gradients. Will likely fail if a gradient is requested.\n",
            "2021-08-05 15:33:00,214 - WARNING - Importing a function (__inference_stem_activation_layer_call_and_return_conditional_losses_226892) with ops with custom gradients. Will likely fail if a gradient is requested.\n",
            "2021-08-05 15:33:00,250 - WARNING - Importing a function (__inference_block6k_se_reduce_layer_call_and_return_conditional_losses_174348) with ops with custom gradients. Will likely fail if a gradient is requested.\n",
            "2021-08-05 15:33:00,256 - WARNING - Importing a function (__inference_block6e_expand_activation_layer_call_and_return_conditional_losses_173017) with ops with custom gradients. Will likely fail if a gradient is requested.\n",
            "2021-08-05 15:33:00,270 - WARNING - Importing a function (__inference_block5c_activation_layer_call_and_return_conditional_losses_170775) with ops with custom gradients. Will likely fail if a gradient is requested.\n",
            "2021-08-05 15:33:00,383 - WARNING - Importing a function (__inference_block6k_activation_layer_call_and_return_conditional_losses_174313) with ops with custom gradients. Will likely fail if a gradient is requested.\n",
            "2021-08-05 15:33:00,387 - WARNING - Importing a function (__inference_block6d_activation_layer_call_and_return_conditional_losses_172850) with ops with custom gradients. Will likely fail if a gradient is requested.\n",
            "2021-08-05 15:33:00,403 - WARNING - Importing a function (__inference_block6e_activation_layer_call_and_return_conditional_losses_173059) with ops with custom gradients. Will likely fail if a gradient is requested.\n",
            "2021-08-05 15:33:00,571 - WARNING - Importing a function (__inference_block5a_se_reduce_layer_call_and_return_conditional_losses_233474) with ops with custom gradients. Will likely fail if a gradient is requested.\n",
            "2021-08-05 15:33:00,590 - WARNING - Importing a function (__inference_block6f_se_reduce_layer_call_and_return_conditional_losses_241122) with ops with custom gradients. Will likely fail if a gradient is requested.\n",
            "2021-08-05 15:33:00,603 - WARNING - Importing a function (__inference_block4c_se_reduce_layer_call_and_return_conditional_losses_169571) with ops with custom gradients. Will likely fail if a gradient is requested.\n",
            "2021-08-05 15:33:00,608 - WARNING - Importing a function (__inference_top_activation_layer_call_and_return_conditional_losses_175316) with ops with custom gradients. Will likely fail if a gradient is requested.\n",
            "2021-08-05 15:33:00,618 - WARNING - Importing a function (__inference_block4d_activation_layer_call_and_return_conditional_losses_169745) with ops with custom gradients. Will likely fail if a gradient is requested.\n",
            "2021-08-05 15:33:00,693 - WARNING - Importing a function (__inference_block6k_se_reduce_layer_call_and_return_conditional_losses_243887) with ops with custom gradients. Will likely fail if a gradient is requested.\n",
            "2021-08-05 15:33:00,701 - WARNING - Importing a function (__inference_block2a_expand_activation_layer_call_and_return_conditional_losses_227410) with ops with custom gradients. Will likely fail if a gradient is requested.\n",
            "2021-08-05 15:33:00,718 - WARNING - Importing a function (__inference_block5g_expand_activation_layer_call_and_return_conditional_losses_171569) with ops with custom gradients. Will likely fail if a gradient is requested.\n",
            "2021-08-05 15:33:00,728 - WARNING - Importing a function (__inference_block4d_se_reduce_layer_call_and_return_conditional_losses_231815) with ops with custom gradients. Will likely fail if a gradient is requested.\n",
            "2021-08-05 15:33:00,749 - WARNING - Importing a function (__inference_block4a_se_reduce_layer_call_and_return_conditional_losses_169168) with ops with custom gradients. Will likely fail if a gradient is requested.\n",
            "2021-08-05 15:33:00,797 - WARNING - Importing a function (__inference_block6c_se_reduce_layer_call_and_return_conditional_losses_172676) with ops with custom gradients. Will likely fail if a gradient is requested.\n",
            "2021-08-05 15:33:00,866 - WARNING - Importing a function (__inference_block3d_expand_activation_layer_call_and_return_conditional_losses_168988) with ops with custom gradients. Will likely fail if a gradient is requested.\n",
            "2021-08-05 15:33:00,870 - WARNING - Importing a function (__inference_block6f_activation_layer_call_and_return_conditional_losses_173268) with ops with custom gradients. Will likely fail if a gradient is requested.\n",
            "2021-08-05 15:33:00,901 - WARNING - Importing a function (__inference_block6i_se_reduce_layer_call_and_return_conditional_losses_242781) with ops with custom gradients. Will likely fail if a gradient is requested.\n",
            "2021-08-05 15:33:00,913 - WARNING - Importing a function (__inference_block5i_se_reduce_layer_call_and_return_conditional_losses_237851) with ops with custom gradients. Will likely fail if a gradient is requested.\n",
            "2021-08-05 15:33:00,975 - WARNING - Importing a function (__inference_block6k_expand_activation_layer_call_and_return_conditional_losses_243704) with ops with custom gradients. Will likely fail if a gradient is requested.\n",
            "2021-08-05 15:33:00,977 - WARNING - Importing a function (__inference_block6e_se_reduce_layer_call_and_return_conditional_losses_240569) with ops with custom gradients. Will likely fail if a gradient is requested.\n",
            "2021-08-05 15:33:00,993 - WARNING - Importing a function (__inference_block6b_expand_activation_layer_call_and_return_conditional_losses_238727) with ops with custom gradients. Will likely fail if a gradient is requested.\n",
            "2021-08-05 15:33:01,072 - WARNING - Importing a function (__inference_block5e_se_reduce_layer_call_and_return_conditional_losses_171228) with ops with custom gradients. Will likely fail if a gradient is requested.\n",
            "2021-08-05 15:33:01,117 - WARNING - Importing a function (__inference_block6d_se_reduce_layer_call_and_return_conditional_losses_172885) with ops with custom gradients. Will likely fail if a gradient is requested.\n",
            "2021-08-05 15:33:01,164 - WARNING - Importing a function (__inference_block6k_expand_activation_layer_call_and_return_conditional_losses_174271) with ops with custom gradients. Will likely fail if a gradient is requested.\n",
            "2021-08-05 15:33:01,201 - WARNING - Importing a function (__inference_block5d_activation_layer_call_and_return_conditional_losses_170984) with ops with custom gradients. Will likely fail if a gradient is requested.\n",
            "2021-08-05 15:33:01,261 - WARNING - Importing a function (__inference_block6b_expand_activation_layer_call_and_return_conditional_losses_172390) with ops with custom gradients. Will likely fail if a gradient is requested.\n",
            "2021-08-05 15:33:01,282 - WARNING - Importing a function (__inference_block5h_expand_activation_layer_call_and_return_conditional_losses_171778) with ops with custom gradients. Will likely fail if a gradient is requested.\n",
            "2021-08-05 15:33:01,306 - WARNING - Importing a function (__inference_block4b_activation_layer_call_and_return_conditional_losses_230665) with ops with custom gradients. Will likely fail if a gradient is requested.\n",
            "2021-08-05 15:33:01,321 - WARNING - Importing a function (__inference_block5e_se_reduce_layer_call_and_return_conditional_losses_235639) with ops with custom gradients. Will likely fail if a gradient is requested.\n",
            "2021-08-05 15:33:01,325 - WARNING - Importing a function (__inference_block2b_expand_activation_layer_call_and_return_conditional_losses_168385) with ops with custom gradients. Will likely fail if a gradient is requested.\n",
            "2021-08-05 15:33:01,334 - WARNING - Importing a function (__inference_block2b_expand_activation_layer_call_and_return_conditional_losses_227701) with ops with custom gradients. Will likely fail if a gradient is requested.\n",
            "2021-08-05 15:33:01,337 - WARNING - Importing a function (__inference_block6f_se_reduce_layer_call_and_return_conditional_losses_173303) with ops with custom gradients. Will likely fail if a gradient is requested.\n",
            "2021-08-05 15:33:01,570 - WARNING - Importing a function (__inference_block5d_se_reduce_layer_call_and_return_conditional_losses_171019) with ops with custom gradients. Will likely fail if a gradient is requested.\n",
            "2021-08-05 15:33:01,629 - WARNING - Importing a function (__inference_sequential_layer_call_and_return_conditional_losses_212778) with ops with custom gradients. Will likely fail if a gradient is requested.\n",
            "2021-08-05 15:33:02,100 - WARNING - Importing a function (__inference_block6g_activation_layer_call_and_return_conditional_losses_173477) with ops with custom gradients. Will likely fail if a gradient is requested.\n",
            "2021-08-05 15:33:02,110 - WARNING - Importing a function (__inference_block4e_se_reduce_layer_call_and_return_conditional_losses_232368) with ops with custom gradients. Will likely fail if a gradient is requested.\n",
            "2021-08-05 15:33:02,114 - WARNING - Importing a function (__inference_block5b_activation_layer_call_and_return_conditional_losses_170566) with ops with custom gradients. Will likely fail if a gradient is requested.\n",
            "2021-08-05 15:33:02,199 - WARNING - Importing a function (__inference_block6i_activation_layer_call_and_return_conditional_losses_173895) with ops with custom gradients. Will likely fail if a gradient is requested.\n",
            "2021-08-05 15:33:02,209 - WARNING - Importing a function (__inference_block6l_se_reduce_layer_call_and_return_conditional_losses_174557) with ops with custom gradients. Will likely fail if a gradient is requested.\n",
            "2021-08-05 15:33:02,238 - WARNING - Importing a function (__inference_block5g_activation_layer_call_and_return_conditional_losses_236701) with ops with custom gradients. Will likely fail if a gradient is requested.\n",
            "2021-08-05 15:33:02,266 - WARNING - Importing a function (__inference_block5h_expand_activation_layer_call_and_return_conditional_losses_237115) with ops with custom gradients. Will likely fail if a gradient is requested.\n",
            "2021-08-05 15:33:08,203 - INFO - Signatures found in model: [serving_default].\n",
            "2021-08-05 15:33:08,203 - WARNING - '--signature_def' not specified, using first signature: serving_default\n",
            "2021-08-05 15:33:08,204 - INFO - Output names: ['dense']\n",
            "2021-08-05 15:33:08.246865: I tensorflow/stream_executor/cuda/cuda_gpu_executor.cc:937] successful NUMA node read from SysFS had negative value (-1), but there must be at least one NUMA node, so returning NUMA node zero\n",
            "2021-08-05 15:33:08.247449: I tensorflow/core/grappler/devices.cc:69] Number of eligible GPUs (core count >= 8, compute capability >= 0.0): 1\n",
            "2021-08-05 15:33:08.247614: I tensorflow/core/grappler/clusters/single_machine.cc:357] Starting new session\n",
            "2021-08-05 15:33:08.248021: I tensorflow/stream_executor/cuda/cuda_gpu_executor.cc:937] successful NUMA node read from SysFS had negative value (-1), but there must be at least one NUMA node, so returning NUMA node zero\n",
            "2021-08-05 15:33:08.248551: I tensorflow/core/common_runtime/gpu/gpu_device.cc:1733] Found device 0 with properties: \n",
            "pciBusID: 0000:00:04.0 name: Tesla T4 computeCapability: 7.5\n",
            "coreClock: 1.59GHz coreCount: 40 deviceMemorySize: 14.75GiB deviceMemoryBandwidth: 298.08GiB/s\n",
            "2021-08-05 15:33:08.248633: I tensorflow/stream_executor/cuda/cuda_gpu_executor.cc:937] successful NUMA node read from SysFS had negative value (-1), but there must be at least one NUMA node, so returning NUMA node zero\n",
            "2021-08-05 15:33:08.249168: I tensorflow/stream_executor/cuda/cuda_gpu_executor.cc:937] successful NUMA node read from SysFS had negative value (-1), but there must be at least one NUMA node, so returning NUMA node zero\n",
            "2021-08-05 15:33:08.249630: I tensorflow/core/common_runtime/gpu/gpu_device.cc:1871] Adding visible gpu devices: 0\n",
            "2021-08-05 15:33:08.249685: I tensorflow/core/common_runtime/gpu/gpu_device.cc:1258] Device interconnect StreamExecutor with strength 1 edge matrix:\n",
            "2021-08-05 15:33:08.249701: I tensorflow/core/common_runtime/gpu/gpu_device.cc:1264]      0 \n",
            "2021-08-05 15:33:08.249713: I tensorflow/core/common_runtime/gpu/gpu_device.cc:1277] 0:   N \n",
            "2021-08-05 15:33:08.249811: I tensorflow/stream_executor/cuda/cuda_gpu_executor.cc:937] successful NUMA node read from SysFS had negative value (-1), but there must be at least one NUMA node, so returning NUMA node zero\n",
            "2021-08-05 15:33:08.250340: I tensorflow/stream_executor/cuda/cuda_gpu_executor.cc:937] successful NUMA node read from SysFS had negative value (-1), but there must be at least one NUMA node, so returning NUMA node zero\n",
            "2021-08-05 15:33:08.250816: I tensorflow/core/common_runtime/gpu/gpu_device.cc:1418] Created TensorFlow device (/job:localhost/replica:0/task:0/device:GPU:0 with 9056 MB memory) -> physical GPU (device: 0, name: Tesla T4, pci bus id: 0000:00:04.0, compute capability: 7.5)\n",
            "2021-08-05 15:33:08.251092: I tensorflow/core/platform/profile_utils/cpu_utils.cc:114] CPU Frequency: 2000189999 Hz\n",
            "2021-08-05 15:33:08.355363: I tensorflow/core/grappler/optimizers/meta_optimizer.cc:1144] Optimization results for grappler item: graph_to_optimize\n",
            "  function_optimizer: Graph size after: 3324 nodes (2649), 4906 edges (4231), time = 57.886ms.\n",
            "  function_optimizer: function_optimizer did nothing. time = 1.563ms.\n",
            "\n",
            "2021-08-05 15:33:12.088040: I tensorflow/stream_executor/cuda/cuda_gpu_executor.cc:937] successful NUMA node read from SysFS had negative value (-1), but there must be at least one NUMA node, so returning NUMA node zero\n",
            "2021-08-05 15:33:12.088571: I tensorflow/core/common_runtime/gpu/gpu_device.cc:1733] Found device 0 with properties: \n",
            "pciBusID: 0000:00:04.0 name: Tesla T4 computeCapability: 7.5\n",
            "coreClock: 1.59GHz coreCount: 40 deviceMemorySize: 14.75GiB deviceMemoryBandwidth: 298.08GiB/s\n",
            "2021-08-05 15:33:12.088684: I tensorflow/stream_executor/cuda/cuda_gpu_executor.cc:937] successful NUMA node read from SysFS had negative value (-1), but there must be at least one NUMA node, so returning NUMA node zero\n",
            "2021-08-05 15:33:12.089155: I tensorflow/stream_executor/cuda/cuda_gpu_executor.cc:937] successful NUMA node read from SysFS had negative value (-1), but there must be at least one NUMA node, so returning NUMA node zero\n",
            "2021-08-05 15:33:12.089558: I tensorflow/core/common_runtime/gpu/gpu_device.cc:1871] Adding visible gpu devices: 0\n",
            "2021-08-05 15:33:12.089604: I tensorflow/core/common_runtime/gpu/gpu_device.cc:1258] Device interconnect StreamExecutor with strength 1 edge matrix:\n",
            "2021-08-05 15:33:12.089630: I tensorflow/core/common_runtime/gpu/gpu_device.cc:1264]      0 \n",
            "2021-08-05 15:33:12.089641: I tensorflow/core/common_runtime/gpu/gpu_device.cc:1277] 0:   N \n",
            "2021-08-05 15:33:12.089740: I tensorflow/stream_executor/cuda/cuda_gpu_executor.cc:937] successful NUMA node read from SysFS had negative value (-1), but there must be at least one NUMA node, so returning NUMA node zero\n",
            "2021-08-05 15:33:12.090209: I tensorflow/stream_executor/cuda/cuda_gpu_executor.cc:937] successful NUMA node read from SysFS had negative value (-1), but there must be at least one NUMA node, so returning NUMA node zero\n",
            "2021-08-05 15:33:12.090624: I tensorflow/core/common_runtime/gpu/gpu_device.cc:1418] Created TensorFlow device (/job:localhost/replica:0/task:0/device:GPU:0 with 9056 MB memory) -> physical GPU (device: 0, name: Tesla T4, pci bus id: 0000:00:04.0, compute capability: 7.5)\n",
            "WARNING:tensorflow:From /usr/local/lib/python3.7/dist-packages/tf2onnx/tf_loader.py:603: extract_sub_graph (from tensorflow.python.framework.graph_util_impl) is deprecated and will be removed in a future version.\n",
            "Instructions for updating:\n",
            "Use `tf.compat.v1.graph_util.extract_sub_graph`\n",
            "2021-08-05 15:33:12,834 - WARNING - From /usr/local/lib/python3.7/dist-packages/tf2onnx/tf_loader.py:603: extract_sub_graph (from tensorflow.python.framework.graph_util_impl) is deprecated and will be removed in a future version.\n",
            "Instructions for updating:\n",
            "Use `tf.compat.v1.graph_util.extract_sub_graph`\n",
            "2021-08-05 15:33:12.925126: I tensorflow/stream_executor/cuda/cuda_gpu_executor.cc:937] successful NUMA node read from SysFS had negative value (-1), but there must be at least one NUMA node, so returning NUMA node zero\n",
            "2021-08-05 15:33:12.925638: I tensorflow/core/grappler/devices.cc:69] Number of eligible GPUs (core count >= 8, compute capability >= 0.0): 1\n",
            "2021-08-05 15:33:12.925768: I tensorflow/core/grappler/clusters/single_machine.cc:357] Starting new session\n",
            "2021-08-05 15:33:12.926174: I tensorflow/stream_executor/cuda/cuda_gpu_executor.cc:937] successful NUMA node read from SysFS had negative value (-1), but there must be at least one NUMA node, so returning NUMA node zero\n",
            "2021-08-05 15:33:12.926661: I tensorflow/core/common_runtime/gpu/gpu_device.cc:1733] Found device 0 with properties: \n",
            "pciBusID: 0000:00:04.0 name: Tesla T4 computeCapability: 7.5\n",
            "coreClock: 1.59GHz coreCount: 40 deviceMemorySize: 14.75GiB deviceMemoryBandwidth: 298.08GiB/s\n",
            "2021-08-05 15:33:12.926736: I tensorflow/stream_executor/cuda/cuda_gpu_executor.cc:937] successful NUMA node read from SysFS had negative value (-1), but there must be at least one NUMA node, so returning NUMA node zero\n",
            "2021-08-05 15:33:12.927217: I tensorflow/stream_executor/cuda/cuda_gpu_executor.cc:937] successful NUMA node read from SysFS had negative value (-1), but there must be at least one NUMA node, so returning NUMA node zero\n",
            "2021-08-05 15:33:12.927619: I tensorflow/core/common_runtime/gpu/gpu_device.cc:1871] Adding visible gpu devices: 0\n",
            "2021-08-05 15:33:12.927661: I tensorflow/core/common_runtime/gpu/gpu_device.cc:1258] Device interconnect StreamExecutor with strength 1 edge matrix:\n",
            "2021-08-05 15:33:12.927675: I tensorflow/core/common_runtime/gpu/gpu_device.cc:1264]      0 \n",
            "2021-08-05 15:33:12.927685: I tensorflow/core/common_runtime/gpu/gpu_device.cc:1277] 0:   N \n",
            "2021-08-05 15:33:12.927777: I tensorflow/stream_executor/cuda/cuda_gpu_executor.cc:937] successful NUMA node read from SysFS had negative value (-1), but there must be at least one NUMA node, so returning NUMA node zero\n",
            "2021-08-05 15:33:12.928249: I tensorflow/stream_executor/cuda/cuda_gpu_executor.cc:937] successful NUMA node read from SysFS had negative value (-1), but there must be at least one NUMA node, so returning NUMA node zero\n",
            "2021-08-05 15:33:12.928656: I tensorflow/core/common_runtime/gpu/gpu_device.cc:1418] Created TensorFlow device (/job:localhost/replica:0/task:0/device:GPU:0 with 9056 MB memory) -> physical GPU (device: 0, name: Tesla T4, pci bus id: 0000:00:04.0, compute capability: 7.5)\n",
            "2021-08-05 15:33:13.675028: I tensorflow/core/grappler/optimizers/meta_optimizer.cc:1144] Optimization results for grappler item: graph_to_optimize\n",
            "  constant_folding: Graph size after: 1818 nodes (-1344), 3460 edges (-1344), time = 435.423ms.\n",
            "  function_optimizer: function_optimizer did nothing. time = 2.397ms.\n",
            "  constant_folding: Graph size after: 1818 nodes (0), 3460 edges (0), time = 141.522ms.\n",
            "  function_optimizer: function_optimizer did nothing. time = 5.135ms.\n",
            "\n",
            "2021-08-05 15:33:14,589 - INFO - Using tensorflow=2.5.0, onnx=1.10.1, tf2onnx=1.8.5/50049d\n",
            "2021-08-05 15:33:14,589 - INFO - Using opset <onnx, 9>\n",
            "2021-08-05 15:33:16,616 - INFO - Computed 0 values for constant folding\n",
            "2021-08-05 15:33:25,069 - INFO - Optimizing ONNX model\n",
            "2021-08-05 15:33:32,092 - INFO - After optimization: BatchNormalization -105 (110->5), Cast -60 (60->0), Concat -30 (30->0), Const -551 (913->362), GlobalAveragePool +31 (0->31), Identity -40 (40->0), ReduceMean -31 (31->0), Reshape -30 (60->30), Shape -30 (30->0), Slice -30 (30->0), Squeeze +1 (30->31), Transpose -589 (590->1), Unsqueeze -120 (120->0)\n",
            "2021-08-05 15:33:32,210 - INFO - \n",
            "2021-08-05 15:33:32,210 - INFO - Successfully converted TensorFlow model my_saved_model/ to ONNX\n",
            "2021-08-05 15:33:32,211 - INFO - Model inputs: ['efficientnetv2_s_input:0']\n",
            "2021-08-05 15:33:32,211 - INFO - Model outputs: ['dense']\n",
            "2021-08-05 15:33:32,211 - INFO - ONNX model is saved at efficientnet_lite.onnx\n"
          ],
          "name": "stdout"
        }
      ]
    },
    {
      "cell_type": "code",
      "metadata": {
        "colab": {
          "base_uri": "https://localhost:8080/"
        },
        "id": "r3YzKYsgQyE0",
        "outputId": "898b3aac-3193-475d-bb24-b14592f0ff23"
      },
      "source": [
        "!ls *.onnx"
      ],
      "execution_count": 20,
      "outputs": [
        {
          "output_type": "stream",
          "text": [
            "efficientnet_lite.onnx\n"
          ],
          "name": "stdout"
        }
      ]
    },
    {
      "cell_type": "code",
      "metadata": {
        "id": "o532W4ecSErL"
      },
      "source": [
        ""
      ],
      "execution_count": null,
      "outputs": []
    }
  ]
}
